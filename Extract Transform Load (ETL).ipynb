{
    "cells": [
        {
            "metadata": {},
            "cell_type": "code",
            "source": "# @hidden_cell\n# The project token is an authorization token that is used to access project resources like data sources, connections, and used by platform APIs.\nfrom project_lib import Project\nproject = Project(project_id='452778eb-d85f-4567-a2ee-ae3cf613c834', project_access_token='p-f26ec291e8a83bc0680d8ee012dca78b9d825dfa')\npc = project.project_context\n",
            "execution_count": 1,
            "outputs": []
        },
        {
            "metadata": {},
            "cell_type": "markdown",
            "source": "# Predicting Athletes' Success based on Physical Built - ETL"
        },
        {
            "metadata": {},
            "cell_type": "markdown",
            "source": "## Libs"
        },
        {
            "metadata": {},
            "cell_type": "code",
            "source": "from ibm_botocore.client import Config\nimport ibm_boto3",
            "execution_count": 2,
            "outputs": []
        },
        {
            "metadata": {},
            "cell_type": "code",
            "source": "SEED = 42\n\n# Numpy\nimport numpy as np\nnp.random.seed(SEED)\n\n# Pandas\nimport pandas as pd\n\n# Sklearn\n\n# Preprocessing\nfrom sklearn.preprocessing import StandardScaler, LabelEncoder, OneHotEncoder\nfrom sklearn.feature_extraction import DictVectorizer as DV\nfrom sklearn.model_selection import cross_validate, learning_curve, train_test_split\n\n# Metrics and tuning\nfrom sklearn.metrics import roc_auc_score, accuracy_score, f1_score, confusion_matrix, classification_report\nfrom sklearn.feature_extraction import DictVectorizer as DV\nfrom sklearn.model_selection import GridSearchCV, RandomizedSearchCV, StratifiedKFold\n\n# Models\nfrom sklearn.ensemble import RandomForestClassifier\nfrom sklearn.neighbors import KNeighborsClassifier\nfrom sklearn.linear_model import LogisticRegression as LR\nfrom sklearn.naive_bayes import BernoulliNB, MultinomialNB, GaussianNB\nfrom sklearn.neural_network import MLPClassifier\nfrom sklearn import svm\n\nimport tensorflow as tf\nfrom tensorflow.keras.wrappers.scikit_learn import KerasClassifier\nfrom tensorflow.keras.models import Sequential\nfrom tensorflow.keras.layers import Dense\n\n\n# Stats\nfrom scipy import stats\n\n# Vizualization\nimport seaborn as sns\nsns.set(style=\"whitegrid\")\n\n%matplotlib inline\nimport matplotlib as mpl\nimport matplotlib.pyplot as plt\nmpl.rc('axes', labelsize=14)\nmpl.rc('xtick', labelsize=12)\nmpl.rc('ytick', labelsize=12)",
            "execution_count": 3,
            "outputs": []
        },
        {
            "metadata": {},
            "cell_type": "code",
            "source": "\nimport os, types\nimport pandas as pd\nfrom botocore.client import Config\nimport ibm_boto3\n\ndef __iter__(self): return 0\n\n# @hidden_cell\n# The following code accesses a file in your IBM Cloud Object Storage. It includes your credentials.\n# You might want to remove those credentials before you share the notebook.\n\nif os.environ.get('RUNTIME_ENV_LOCATION_TYPE') == 'external':\n    endpoint_ae9960ddc8814d4c8b5407d633c117e6 = 'https://s3.ap.cloud-object-storage.appdomain.cloud'\nelse:\n    endpoint_ae9960ddc8814d4c8b5407d633c117e6 = 'https://s3.private.ap.cloud-object-storage.appdomain.cloud'\n\nclient_ae9960ddc8814d4c8b5407d633c117e6 = ibm_boto3.client(service_name='s3',\n    ibm_api_key_id='y-i7Ll-_fH7OmwBZU47jYLDcYfCQFgbdSFfHOig9oGAC',\n    ibm_auth_endpoint=\"https://iam.cloud.ibm.com/oidc/token\",\n    config=Config(signature_version='oauth'),\n    endpoint_url=endpoint_ae9960ddc8814d4c8b5407d633c117e6)\n\nbody = client_ae9960ddc8814d4c8b5407d633c117e6.get_object(Bucket='ibmadvanceddatasciencecapstone-donotdelete-pr-imkca0ueactk84',Key='ide.csv')['Body']\n# add missing __iter__ method, so pandas accepts body as file-like object\nif not hasattr(body, \"__iter__\"): body.__iter__ = types.MethodType( __iter__, body )\n\ndf_data_1 = pd.read_csv(body)\ndf_data_1.head()\n",
            "execution_count": 4,
            "outputs": [
                {
                    "output_type": "execute_result",
                    "execution_count": 4,
                    "data": {
                        "text/plain": "   ID                      Name Sex   Age  Height  Weight         Team  NOC  \\\n0   1                 A Dijiang   M  24.0   180.0    80.0        China  CHN   \n1   2                  A Lamusi   M  23.0   170.0    60.0        China  CHN   \n2   5  Christine Jacoba Aaftink   F  21.0   185.0    82.0  Netherlands  NED   \n3   5  Christine Jacoba Aaftink   F  21.0   185.0    82.0  Netherlands  NED   \n4   5  Christine Jacoba Aaftink   F  25.0   185.0    82.0  Netherlands  NED   \n\n         Games  Year  Season         City          Sport  \\\n0  1992 Summer  1992  Summer    Barcelona     Basketball   \n1  2012 Summer  2012  Summer       London           Judo   \n2  1988 Winter  1988  Winter      Calgary  Speed Skating   \n3  1988 Winter  1988  Winter      Calgary  Speed Skating   \n4  1992 Winter  1992  Winter  Albertville  Speed Skating   \n\n                                Event  Medal  \n0         Basketball Men's Basketball      0  \n1        Judo Men's Extra-Lightweight      0  \n2    Speed Skating Women's 500 metres      0  \n3  Speed Skating Women's 1,000 metres      0  \n4    Speed Skating Women's 500 metres      0  ",
                        "text/html": "<div>\n<style scoped>\n    .dataframe tbody tr th:only-of-type {\n        vertical-align: middle;\n    }\n\n    .dataframe tbody tr th {\n        vertical-align: top;\n    }\n\n    .dataframe thead th {\n        text-align: right;\n    }\n</style>\n<table border=\"1\" class=\"dataframe\">\n  <thead>\n    <tr style=\"text-align: right;\">\n      <th></th>\n      <th>ID</th>\n      <th>Name</th>\n      <th>Sex</th>\n      <th>Age</th>\n      <th>Height</th>\n      <th>Weight</th>\n      <th>Team</th>\n      <th>NOC</th>\n      <th>Games</th>\n      <th>Year</th>\n      <th>Season</th>\n      <th>City</th>\n      <th>Sport</th>\n      <th>Event</th>\n      <th>Medal</th>\n    </tr>\n  </thead>\n  <tbody>\n    <tr>\n      <th>0</th>\n      <td>1</td>\n      <td>A Dijiang</td>\n      <td>M</td>\n      <td>24.0</td>\n      <td>180.0</td>\n      <td>80.0</td>\n      <td>China</td>\n      <td>CHN</td>\n      <td>1992 Summer</td>\n      <td>1992</td>\n      <td>Summer</td>\n      <td>Barcelona</td>\n      <td>Basketball</td>\n      <td>Basketball Men's Basketball</td>\n      <td>0</td>\n    </tr>\n    <tr>\n      <th>1</th>\n      <td>2</td>\n      <td>A Lamusi</td>\n      <td>M</td>\n      <td>23.0</td>\n      <td>170.0</td>\n      <td>60.0</td>\n      <td>China</td>\n      <td>CHN</td>\n      <td>2012 Summer</td>\n      <td>2012</td>\n      <td>Summer</td>\n      <td>London</td>\n      <td>Judo</td>\n      <td>Judo Men's Extra-Lightweight</td>\n      <td>0</td>\n    </tr>\n    <tr>\n      <th>2</th>\n      <td>5</td>\n      <td>Christine Jacoba Aaftink</td>\n      <td>F</td>\n      <td>21.0</td>\n      <td>185.0</td>\n      <td>82.0</td>\n      <td>Netherlands</td>\n      <td>NED</td>\n      <td>1988 Winter</td>\n      <td>1988</td>\n      <td>Winter</td>\n      <td>Calgary</td>\n      <td>Speed Skating</td>\n      <td>Speed Skating Women's 500 metres</td>\n      <td>0</td>\n    </tr>\n    <tr>\n      <th>3</th>\n      <td>5</td>\n      <td>Christine Jacoba Aaftink</td>\n      <td>F</td>\n      <td>21.0</td>\n      <td>185.0</td>\n      <td>82.0</td>\n      <td>Netherlands</td>\n      <td>NED</td>\n      <td>1988 Winter</td>\n      <td>1988</td>\n      <td>Winter</td>\n      <td>Calgary</td>\n      <td>Speed Skating</td>\n      <td>Speed Skating Women's 1,000 metres</td>\n      <td>0</td>\n    </tr>\n    <tr>\n      <th>4</th>\n      <td>5</td>\n      <td>Christine Jacoba Aaftink</td>\n      <td>F</td>\n      <td>25.0</td>\n      <td>185.0</td>\n      <td>82.0</td>\n      <td>Netherlands</td>\n      <td>NED</td>\n      <td>1992 Winter</td>\n      <td>1992</td>\n      <td>Winter</td>\n      <td>Albertville</td>\n      <td>Speed Skating</td>\n      <td>Speed Skating Women's 500 metres</td>\n      <td>0</td>\n    </tr>\n  </tbody>\n</table>\n</div>"
                    },
                    "metadata": {}
                }
            ]
        },
        {
            "metadata": {},
            "cell_type": "markdown",
            "source": "## Defining functions"
        },
        {
            "metadata": {},
            "cell_type": "code",
            "source": "def histograms_numeric_columns(df, numerical_columns):\n    '''\n    Takes df, numerical columns as list\n    Returns a group of histagrams\n    '''\n    f = pd.melt(df, value_vars=numerical_columns) \n    g = sns.FacetGrid(f, col='variable',  col_wrap=4, sharex=False, sharey=False)\n    g = g.map(sns.distplot, 'value')\n    return g\n\ndef heatmap_numeric_w_dependent_variable(df, dependent_variable):\n    '''\n    Takes df, a dependant variable as str\n    Returns a heatmap of all independent variables' correlations with dependent variable \n    '''\n    plt.figure(figsize=(8, 10))\n    g = sns.heatmap(df.corr()[[dependent_variable]].sort_values(by=dependent_variable), \n                    annot=True, \n                    cmap='coolwarm', \n                    vmin=-1,\n                    vmax=1) \n    return g\n\ndef cramers_v(x, y):\n    '''\n    Returns cramers_v for 2 categorical features\n    '''\n    confusion_matrix = pd.crosstab(x,y)\n    chi2 = stats.chi2_contingency(confusion_matrix)[0]\n    n = confusion_matrix.sum().sum()\n    phi2 = chi2/n\n    r,k = confusion_matrix.shape\n    phi2corr = max(0, phi2-((k-1)*(r-1))/(n-1))\n    rcorr = r-((r-1)**2)/(n-1)\n    kcorr = k-((k-1)**2)/(n-1)\n    return np.sqrt(phi2corr/min((kcorr-1),(rcorr-1)))\n\ndef heatmap_categorical_columns_w_dependant_categorical(df, dependent_variable, columns):\n    '''\n    Takes df, a dependant variable as str\n    Returns a heatmap of catecorical columns cramers_v with dependent variable \n    '''\n    plt.figure(figsize=(8, 10))\n    corrM = [cramers_v(df[dependent_variable], df[column]) for column in columns]\n    corr = pd.DataFrame(corrM, index=columns, columns=[dependent_variable])\n    ax = sns.heatmap(corr,\n            annot=True,\n            cmap='coolwarm', \n            vmin=-1,\n            vmax=1,\n           )\n    ax.set_title(\"Cramer V Correlation between Variables\")\n    return ax",
            "execution_count": 5,
            "outputs": []
        },
        {
            "metadata": {},
            "cell_type": "markdown",
            "source": "## ETL"
        },
        {
            "metadata": {},
            "cell_type": "markdown",
            "source": "### Data Cleansing\nDrop unnecessary columns\n- Name\n- NOC\n- Games\n- Year\t\n- Season\t\n- City\t\n- Sport\t"
        },
        {
            "metadata": {},
            "cell_type": "code",
            "source": "df = df_data_1.drop(columns=[\n    'Name',\n    'NOC',\n    'Games',\n    'Year',\n    'Season',\n    'City',\n    'Sport',\n])\n\ndf.info()",
            "execution_count": 6,
            "outputs": [
                {
                    "output_type": "stream",
                    "text": "<class 'pandas.core.frame.DataFrame'>\nRangeIndex: 206165 entries, 0 to 206164\nData columns (total 8 columns):\n #   Column  Non-Null Count   Dtype  \n---  ------  --------------   -----  \n 0   ID      206165 non-null  int64  \n 1   Sex     206165 non-null  object \n 2   Age     206165 non-null  float64\n 3   Height  206165 non-null  float64\n 4   Weight  206165 non-null  float64\n 5   Team    206165 non-null  object \n 6   Event   206165 non-null  object \n 7   Medal   206165 non-null  int64  \ndtypes: float64(3), int64(2), object(3)\nmemory usage: 12.6+ MB\n",
                    "name": "stdout"
                }
            ]
        },
        {
            "metadata": {},
            "cell_type": "markdown",
            "source": "## Missing values\nThese were dealt with during initial data exploration."
        },
        {
            "metadata": {},
            "cell_type": "markdown",
            "source": "## Guideline checks\n## Data types\nData types of columns match their content. "
        },
        {
            "metadata": {},
            "cell_type": "code",
            "source": "df['Sex'] = df['Sex'].astype('category')\ndf['Team'] = df['Team'].astype('category')\ndf['Event'] = df['Event'].astype('category')",
            "execution_count": 7,
            "outputs": []
        },
        {
            "metadata": {},
            "cell_type": "markdown",
            "source": "## Ranges\nCheck the distribution of values in a column."
        },
        {
            "metadata": {},
            "cell_type": "code",
            "source": "df.hist('Age')",
            "execution_count": 8,
            "outputs": [
                {
                    "output_type": "execute_result",
                    "execution_count": 8,
                    "data": {
                        "text/plain": "array([[<matplotlib.axes._subplots.AxesSubplot object at 0x7f47666b51d0>]],\n      dtype=object)"
                    },
                    "metadata": {}
                },
                {
                    "output_type": "display_data",
                    "data": {
                        "text/plain": "<Figure size 432x288 with 1 Axes>",
                        "image/png": "[encoded data removed]"
                    },
                    "metadata": {
                        "needs_background": "light"
                    }
                }
            ]
        },
        {
            "metadata": {},
            "cell_type": "code",
            "source": "df.hist('Height')",
            "execution_count": 9,
            "outputs": [
                {
                    "output_type": "execute_result",
                    "execution_count": 9,
                    "data": {
                        "text/plain": "array([[<matplotlib.axes._subplots.AxesSubplot object at 0x7f47665a8c10>]],\n      dtype=object)"
                    },
                    "metadata": {}
                },
                {
                    "output_type": "display_data",
                    "data": {
                        "text/plain": "<Figure size 432x288 with 1 Axes>",
                        "image/png": "[encoded data removed]"
                    },
                    "metadata": {
                        "needs_background": "light"
                    }
                }
            ]
        },
        {
            "metadata": {},
            "cell_type": "code",
            "source": "df.hist('Weight')",
            "execution_count": 10,
            "outputs": [
                {
                    "output_type": "execute_result",
                    "execution_count": 10,
                    "data": {
                        "text/plain": "array([[<matplotlib.axes._subplots.AxesSubplot object at 0x7f476658fbd0>]],\n      dtype=object)"
                    },
                    "metadata": {}
                },
                {
                    "output_type": "display_data",
                    "data": {
                        "text/plain": "<Figure size 432x288 with 1 Axes>",
                        "image/png": "[encoded data removed]"
                    },
                    "metadata": {
                        "needs_background": "light"
                    }
                }
            ]
        },
        {
            "metadata": {},
            "cell_type": "markdown",
            "source": "## Load data to object storage"
        },
        {
            "metadata": {},
            "cell_type": "code",
            "source": "project.save_data(data=df.to_csv(index=False),file_name='etl.csv',overwrite=True)",
            "execution_count": 11,
            "outputs": [
                {
                    "output_type": "execute_result",
                    "execution_count": 11,
                    "data": {
                        "text/plain": "{'file_name': 'etl.csv',\n 'message': 'File saved to project storage.',\n 'bucket_name': 'ibmadvanceddatasciencecapstone-donotdelete-pr-imkca0ueactk84',\n 'asset_id': '33614375-c2fc-4e39-9311-caefec4f8008'}"
                    },
                    "metadata": {}
                }
            ]
        },
        {
            "metadata": {},
            "cell_type": "code",
            "source": "",
            "execution_count": null,
            "outputs": []
        }
    ],
    "metadata": {
        "kernelspec": {
            "name": "python3",
            "display_name": "Python 3.7",
            "language": "python"
        },
        "language_info": {
            "name": "python",
            "version": "3.7.11",
            "mimetype": "text/x-python",
            "codemirror_mode": {
                "name": "ipython",
                "version": 3
            },
            "pygments_lexer": "ipython3",
            "nbconvert_exporter": "python",
            "file_extension": ".py"
        }
    },
    "nbformat": 4,
    "nbformat_minor": 1
}