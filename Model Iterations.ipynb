{
    "cells": [
        {
            "metadata": {
                "collapsed": true
            },
            "cell_type": "markdown",
            "source": "# Predicting Athletes' Success based on Physical Built - Iterations"
        },
        {
            "metadata": {},
            "cell_type": "code",
            "source": "from ibm_botocore.client import Config\nimport ibm_boto3",
            "execution_count": 1,
            "outputs": []
        },
        {
            "metadata": {},
            "cell_type": "code",
            "source": "SEED = 42\n\n# Numpy\nimport numpy as np\nnp.random.seed(SEED)\nfrom numpy import loadtxt\n\n# Pandas\nimport pandas as pd\n\n# Sklearn\n\n# Preprocessing\nfrom sklearn.preprocessing import StandardScaler, LabelEncoder, OneHotEncoder\nfrom sklearn.feature_extraction import DictVectorizer as DV\nfrom sklearn.model_selection import cross_validate, learning_curve, train_test_split\nfrom sklearn.model_selection import cross_val_score\n\n# Metrics and tuning\nfrom sklearn.metrics import roc_auc_score, accuracy_score, f1_score, confusion_matrix, classification_report\nfrom sklearn.feature_extraction import DictVectorizer as DV\nfrom sklearn.model_selection import GridSearchCV, RandomizedSearchCV, StratifiedKFold\n\n# Models\nfrom sklearn.ensemble import RandomForestClassifier\nfrom sklearn.neighbors import KNeighborsClassifier\nfrom sklearn.linear_model import LogisticRegression as LR\nfrom sklearn.naive_bayes import BernoulliNB, MultinomialNB, GaussianNB\nfrom sklearn.neural_network import MLPClassifier\nfrom sklearn import svm\nfrom sklearn.metrics import roc_auc_score\n\nimport tensorflow as tf\nfrom tensorflow.keras.wrappers.scikit_learn import KerasClassifier\nfrom tensorflow.keras.models import Sequential\nfrom tensorflow.keras.layers import Dense\n\n# PySpark\n!pip install pyspark==2.4.5\nfrom pyspark.ml.feature import VectorAssembler\nfrom pyspark.sql.functions import monotonically_increasing_id \nfrom pyspark.sql.types import IntegerType\nfrom pyspark.sql.functions import lit\nfrom pyspark.ml.classification import LogisticRegression\n\nfrom pyspark.ml.evaluation import BinaryClassificationEvaluator\nfrom pyspark.ml.classification import MultilayerPerceptronClassifier\nfrom pyspark.ml.evaluation import MulticlassClassificationEvaluator\n\nfrom pyspark.ml.feature import ChiSqSelector\nfrom pyspark.ml.tuning import ParamGridBuilder, CrossValidator\n\n# Stats\nfrom scipy import stats\n\n# Vizualization\nimport seaborn as sns\nsns.set(style=\"whitegrid\")\n\n%matplotlib inline\nimport matplotlib as mpl\nimport matplotlib.pyplot as plt\nmpl.rc('axes', labelsize=14)\nmpl.rc('xtick', labelsize=12)\nmpl.rc('ytick', labelsize=12)",
            "execution_count": 2,
            "outputs": [
                {
                    "output_type": "stream",
                    "text": "/opt/conda/envs/Python-3.7-OpenCE/lib/python3.7/site-packages/secretstorage/dhcrypto.py:16: CryptographyDeprecationWarning: int_from_bytes is deprecated, use int.from_bytes instead\n  from cryptography.utils import int_from_bytes\n/opt/conda/envs/Python-3.7-OpenCE/lib/python3.7/site-packages/secretstorage/util.py:25: CryptographyDeprecationWarning: int_from_bytes is deprecated, use int.from_bytes instead\n  from cryptography.utils import int_from_bytes\nRequirement already satisfied: pyspark==2.4.5 in /opt/conda/envs/Python-3.7-OpenCE/lib/python3.7/site-packages (2.4.5)\nRequirement already satisfied: py4j==0.10.7 in /opt/conda/envs/Python-3.7-OpenCE/lib/python3.7/site-packages (from pyspark==2.4.5) (0.10.7)\n",
                    "name": "stdout"
                }
            ]
        },
        {
            "metadata": {},
            "cell_type": "code",
            "source": "from pyspark import SparkContext\nsc =SparkContext()",
            "execution_count": 3,
            "outputs": [
                {
                    "output_type": "stream",
                    "text": "22/01/03 14:28:33 WARN NativeCodeLoader: Unable to load native-hadoop library for your platform... using builtin-java classes where applicable\nUsing Spark's default log4j profile: org/apache/spark/log4j-defaults.properties\nSetting default log level to \"WARN\".\nTo adjust logging level use sc.setLogLevel(newLevel). For SparkR, use setLogLevel(newLevel).\n",
                    "name": "stderr"
                }
            ]
        },
        {
            "metadata": {},
            "cell_type": "markdown",
            "source": "## Data"
        },
        {
            "metadata": {},
            "cell_type": "code",
            "source": "\nimport os, types\nimport pandas as pd\nfrom botocore.client import Config\nimport ibm_boto3\n\ndef __iter__(self): return 0\n\n# @hidden_cell\n# The following code accesses a file in your IBM Cloud Object Storage. It includes your credentials.\n# You might want to remove those credentials before you share the notebook.\n\nif os.environ.get('RUNTIME_ENV_LOCATION_TYPE') == 'external':\n    endpoint_ae9960ddc8814d4c8b5407d633c117e6 = 'https://s3.ap.cloud-object-storage.appdomain.cloud'\nelse:\n    endpoint_ae9960ddc8814d4c8b5407d633c117e6 = 'https://s3.private.ap.cloud-object-storage.appdomain.cloud'\n\nclient_ae9960ddc8814d4c8b5407d633c117e6 = ibm_boto3.client(service_name='s3',\n    ibm_api_key_id='y-i7Ll-_fH7OmwBZU47jYLDcYfCQFgbdSFfHOig9oGAC',\n    ibm_auth_endpoint=\"https://iam.cloud.ibm.com/oidc/token\",\n    config=Config(signature_version='oauth'),\n    endpoint_url=endpoint_ae9960ddc8814d4c8b5407d633c117e6)\n\nbody = client_ae9960ddc8814d4c8b5407d633c117e6.get_object(Bucket='ibmadvanceddatasciencecapstone-donotdelete-pr-imkca0ueactk84',Key='train.csv')['Body']\n# add missing __iter__ method, so pandas accepts body as file-like object\nif not hasattr(body, \"__iter__\"): body.__iter__ = types.MethodType( __iter__, body )\n\ndf_data_1 = pd.read_csv(body)\ndf_data_1.head()",
            "execution_count": 4,
            "outputs": [
                {
                    "output_type": "execute_result",
                    "execution_count": 4,
                    "data": {
                        "text/plain": "          0         1         2    3    4    5    6    7    8    9  ...  1245  \\\n0 -1.651038 -2.027846 -1.511511  1.0  0.0  0.0  0.0  0.0  0.0  0.0  ...   0.0   \n1  0.717441  0.250291  1.908546  0.0  1.0  0.0  0.0  0.0  0.0  0.0  ...   0.0   \n2 -0.922275  1.769049  1.140778  0.0  1.0  0.0  0.0  0.0  0.0  0.0  ...   0.0   \n3 -0.922275 -0.604011 -0.953134  0.0  1.0  0.0  0.0  0.0  0.0  0.0  ...   0.0   \n4 -1.286657 -1.363390 -0.988033  0.0  1.0  0.0  0.0  0.0  0.0  0.0  ...   0.0   \n\n   1246  1247  1248  1249  1250  1251  1252  1253  1254  \n0   0.0   0.0   0.0   0.0   0.0   0.0   0.0   0.0   0.0  \n1   0.0   0.0   0.0   0.0   0.0   0.0   0.0   0.0   0.0  \n2   0.0   0.0   0.0   0.0   0.0   0.0   0.0   0.0   0.0  \n3   0.0   0.0   0.0   0.0   0.0   0.0   0.0   0.0   0.0  \n4   0.0   0.0   0.0   0.0   0.0   0.0   0.0   0.0   0.0  \n\n[5 rows x 1255 columns]",
                        "text/html": "<div>\n<style scoped>\n    .dataframe tbody tr th:only-of-type {\n        vertical-align: middle;\n    }\n\n    .dataframe tbody tr th {\n        vertical-align: top;\n    }\n\n    .dataframe thead th {\n        text-align: right;\n    }\n</style>\n<table border=\"1\" class=\"dataframe\">\n  <thead>\n    <tr style=\"text-align: right;\">\n      <th></th>\n      <th>0</th>\n      <th>1</th>\n      <th>2</th>\n      <th>3</th>\n      <th>4</th>\n      <th>5</th>\n      <th>6</th>\n      <th>7</th>\n      <th>8</th>\n      <th>9</th>\n      <th>...</th>\n      <th>1245</th>\n      <th>1246</th>\n      <th>1247</th>\n      <th>1248</th>\n      <th>1249</th>\n      <th>1250</th>\n      <th>1251</th>\n      <th>1252</th>\n      <th>1253</th>\n      <th>1254</th>\n    </tr>\n  </thead>\n  <tbody>\n    <tr>\n      <th>0</th>\n      <td>-1.651038</td>\n      <td>-2.027846</td>\n      <td>-1.511511</td>\n      <td>1.0</td>\n      <td>0.0</td>\n      <td>0.0</td>\n      <td>0.0</td>\n      <td>0.0</td>\n      <td>0.0</td>\n      <td>0.0</td>\n      <td>...</td>\n      <td>0.0</td>\n      <td>0.0</td>\n      <td>0.0</td>\n      <td>0.0</td>\n      <td>0.0</td>\n      <td>0.0</td>\n      <td>0.0</td>\n      <td>0.0</td>\n      <td>0.0</td>\n      <td>0.0</td>\n    </tr>\n    <tr>\n      <th>1</th>\n      <td>0.717441</td>\n      <td>0.250291</td>\n      <td>1.908546</td>\n      <td>0.0</td>\n      <td>1.0</td>\n      <td>0.0</td>\n      <td>0.0</td>\n      <td>0.0</td>\n      <td>0.0</td>\n      <td>0.0</td>\n      <td>...</td>\n      <td>0.0</td>\n      <td>0.0</td>\n      <td>0.0</td>\n      <td>0.0</td>\n      <td>0.0</td>\n      <td>0.0</td>\n      <td>0.0</td>\n      <td>0.0</td>\n      <td>0.0</td>\n      <td>0.0</td>\n    </tr>\n    <tr>\n      <th>2</th>\n      <td>-0.922275</td>\n      <td>1.769049</td>\n      <td>1.140778</td>\n      <td>0.0</td>\n      <td>1.0</td>\n      <td>0.0</td>\n      <td>0.0</td>\n      <td>0.0</td>\n      <td>0.0</td>\n      <td>0.0</td>\n      <td>...</td>\n      <td>0.0</td>\n      <td>0.0</td>\n      <td>0.0</td>\n      <td>0.0</td>\n      <td>0.0</td>\n      <td>0.0</td>\n      <td>0.0</td>\n      <td>0.0</td>\n      <td>0.0</td>\n      <td>0.0</td>\n    </tr>\n    <tr>\n      <th>3</th>\n      <td>-0.922275</td>\n      <td>-0.604011</td>\n      <td>-0.953134</td>\n      <td>0.0</td>\n      <td>1.0</td>\n      <td>0.0</td>\n      <td>0.0</td>\n      <td>0.0</td>\n      <td>0.0</td>\n      <td>0.0</td>\n      <td>...</td>\n      <td>0.0</td>\n      <td>0.0</td>\n      <td>0.0</td>\n      <td>0.0</td>\n      <td>0.0</td>\n      <td>0.0</td>\n      <td>0.0</td>\n      <td>0.0</td>\n      <td>0.0</td>\n      <td>0.0</td>\n    </tr>\n    <tr>\n      <th>4</th>\n      <td>-1.286657</td>\n      <td>-1.363390</td>\n      <td>-0.988033</td>\n      <td>0.0</td>\n      <td>1.0</td>\n      <td>0.0</td>\n      <td>0.0</td>\n      <td>0.0</td>\n      <td>0.0</td>\n      <td>0.0</td>\n      <td>...</td>\n      <td>0.0</td>\n      <td>0.0</td>\n      <td>0.0</td>\n      <td>0.0</td>\n      <td>0.0</td>\n      <td>0.0</td>\n      <td>0.0</td>\n      <td>0.0</td>\n      <td>0.0</td>\n      <td>0.0</td>\n    </tr>\n  </tbody>\n</table>\n<p>5 rows \u00d7 1255 columns</p>\n</div>"
                    },
                    "metadata": {}
                }
            ]
        },
        {
            "metadata": {},
            "cell_type": "code",
            "source": "body = client_ae9960ddc8814d4c8b5407d633c117e6.get_object(Bucket='ibmadvanceddatasciencecapstone-donotdelete-pr-imkca0ueactk84',Key='test.csv')['Body']\n# add missing __iter__ method, so pandas accepts body as file-like object\nif not hasattr(body, \"__iter__\"): body.__iter__ = types.MethodType( __iter__, body )\n\ndf_data_2 = pd.read_csv(body)\ndf_data_2.head()",
            "execution_count": 5,
            "outputs": [
                {
                    "output_type": "execute_result",
                    "execution_count": 5,
                    "data": {
                        "text/plain": "          0         1         2    3    4    5    6    7    8    9  ...  1245  \\\n0  0.170869 -0.319243 -0.743743  0.0  1.0  0.0  0.0  0.0  0.0  0.0  ...   0.0   \n1 -0.011322  1.199515  0.582401  0.0  1.0  0.0  0.0  0.0  0.0  0.0  ...   0.0   \n2  0.899632  0.629980  0.512604  0.0  1.0  0.0  0.0  0.0  0.0  0.0  ...   0.0   \n3 -0.011322  0.724903  0.373010  0.0  1.0  0.0  0.0  0.0  0.0  0.0  ...   0.0   \n4  1.628395  0.440136  1.070981  0.0  1.0  0.0  0.0  0.0  0.0  0.0  ...   0.0   \n\n   1246  1247  1248  1249  1250  1251  1252  1253  1254  \n0   0.0   0.0   0.0   0.0   0.0   0.0   0.0   0.0   0.0  \n1   0.0   0.0   0.0   0.0   0.0   0.0   0.0   0.0   0.0  \n2   0.0   0.0   0.0   0.0   0.0   0.0   0.0   0.0   0.0  \n3   0.0   0.0   0.0   0.0   0.0   0.0   0.0   0.0   0.0  \n4   0.0   0.0   0.0   0.0   0.0   0.0   0.0   0.0   0.0  \n\n[5 rows x 1255 columns]",
                        "text/html": "<div>\n<style scoped>\n    .dataframe tbody tr th:only-of-type {\n        vertical-align: middle;\n    }\n\n    .dataframe tbody tr th {\n        vertical-align: top;\n    }\n\n    .dataframe thead th {\n        text-align: right;\n    }\n</style>\n<table border=\"1\" class=\"dataframe\">\n  <thead>\n    <tr style=\"text-align: right;\">\n      <th></th>\n      <th>0</th>\n      <th>1</th>\n      <th>2</th>\n      <th>3</th>\n      <th>4</th>\n      <th>5</th>\n      <th>6</th>\n      <th>7</th>\n      <th>8</th>\n      <th>9</th>\n      <th>...</th>\n      <th>1245</th>\n      <th>1246</th>\n      <th>1247</th>\n      <th>1248</th>\n      <th>1249</th>\n      <th>1250</th>\n      <th>1251</th>\n      <th>1252</th>\n      <th>1253</th>\n      <th>1254</th>\n    </tr>\n  </thead>\n  <tbody>\n    <tr>\n      <th>0</th>\n      <td>0.170869</td>\n      <td>-0.319243</td>\n      <td>-0.743743</td>\n      <td>0.0</td>\n      <td>1.0</td>\n      <td>0.0</td>\n      <td>0.0</td>\n      <td>0.0</td>\n      <td>0.0</td>\n      <td>0.0</td>\n      <td>...</td>\n      <td>0.0</td>\n      <td>0.0</td>\n      <td>0.0</td>\n      <td>0.0</td>\n      <td>0.0</td>\n      <td>0.0</td>\n      <td>0.0</td>\n      <td>0.0</td>\n      <td>0.0</td>\n      <td>0.0</td>\n    </tr>\n    <tr>\n      <th>1</th>\n      <td>-0.011322</td>\n      <td>1.199515</td>\n      <td>0.582401</td>\n      <td>0.0</td>\n      <td>1.0</td>\n      <td>0.0</td>\n      <td>0.0</td>\n      <td>0.0</td>\n      <td>0.0</td>\n      <td>0.0</td>\n      <td>...</td>\n      <td>0.0</td>\n      <td>0.0</td>\n      <td>0.0</td>\n      <td>0.0</td>\n      <td>0.0</td>\n      <td>0.0</td>\n      <td>0.0</td>\n      <td>0.0</td>\n      <td>0.0</td>\n      <td>0.0</td>\n    </tr>\n    <tr>\n      <th>2</th>\n      <td>0.899632</td>\n      <td>0.629980</td>\n      <td>0.512604</td>\n      <td>0.0</td>\n      <td>1.0</td>\n      <td>0.0</td>\n      <td>0.0</td>\n      <td>0.0</td>\n      <td>0.0</td>\n      <td>0.0</td>\n      <td>...</td>\n      <td>0.0</td>\n      <td>0.0</td>\n      <td>0.0</td>\n      <td>0.0</td>\n      <td>0.0</td>\n      <td>0.0</td>\n      <td>0.0</td>\n      <td>0.0</td>\n      <td>0.0</td>\n      <td>0.0</td>\n    </tr>\n    <tr>\n      <th>3</th>\n      <td>-0.011322</td>\n      <td>0.724903</td>\n      <td>0.373010</td>\n      <td>0.0</td>\n      <td>1.0</td>\n      <td>0.0</td>\n      <td>0.0</td>\n      <td>0.0</td>\n      <td>0.0</td>\n      <td>0.0</td>\n      <td>...</td>\n      <td>0.0</td>\n      <td>0.0</td>\n      <td>0.0</td>\n      <td>0.0</td>\n      <td>0.0</td>\n      <td>0.0</td>\n      <td>0.0</td>\n      <td>0.0</td>\n      <td>0.0</td>\n      <td>0.0</td>\n    </tr>\n    <tr>\n      <th>4</th>\n      <td>1.628395</td>\n      <td>0.440136</td>\n      <td>1.070981</td>\n      <td>0.0</td>\n      <td>1.0</td>\n      <td>0.0</td>\n      <td>0.0</td>\n      <td>0.0</td>\n      <td>0.0</td>\n      <td>0.0</td>\n      <td>...</td>\n      <td>0.0</td>\n      <td>0.0</td>\n      <td>0.0</td>\n      <td>0.0</td>\n      <td>0.0</td>\n      <td>0.0</td>\n      <td>0.0</td>\n      <td>0.0</td>\n      <td>0.0</td>\n      <td>0.0</td>\n    </tr>\n  </tbody>\n</table>\n<p>5 rows \u00d7 1255 columns</p>\n</div>"
                    },
                    "metadata": {}
                }
            ]
        },
        {
            "metadata": {},
            "cell_type": "code",
            "source": "body = client_ae9960ddc8814d4c8b5407d633c117e6.get_object(Bucket='ibmadvanceddatasciencecapstone-donotdelete-pr-imkca0ueactk84',Key='y_train.csv')['Body']\n# add missing __iter__ method, so pandas accepts body as file-like object\nif not hasattr(body, \"__iter__\"): body.__iter__ = types.MethodType( __iter__, body )\n\ndf_data_3 = pd.read_csv(body)\ndf_data_3.head()\n",
            "execution_count": 6,
            "outputs": [
                {
                    "output_type": "execute_result",
                    "execution_count": 6,
                    "data": {
                        "text/plain": "   Medal\n0      0\n1      1\n2      0\n3      0\n4      0",
                        "text/html": "<div>\n<style scoped>\n    .dataframe tbody tr th:only-of-type {\n        vertical-align: middle;\n    }\n\n    .dataframe tbody tr th {\n        vertical-align: top;\n    }\n\n    .dataframe thead th {\n        text-align: right;\n    }\n</style>\n<table border=\"1\" class=\"dataframe\">\n  <thead>\n    <tr style=\"text-align: right;\">\n      <th></th>\n      <th>Medal</th>\n    </tr>\n  </thead>\n  <tbody>\n    <tr>\n      <th>0</th>\n      <td>0</td>\n    </tr>\n    <tr>\n      <th>1</th>\n      <td>1</td>\n    </tr>\n    <tr>\n      <th>2</th>\n      <td>0</td>\n    </tr>\n    <tr>\n      <th>3</th>\n      <td>0</td>\n    </tr>\n    <tr>\n      <th>4</th>\n      <td>0</td>\n    </tr>\n  </tbody>\n</table>\n</div>"
                    },
                    "metadata": {}
                }
            ]
        },
        {
            "metadata": {},
            "cell_type": "code",
            "source": "\nbody = client_ae9960ddc8814d4c8b5407d633c117e6.get_object(Bucket='ibmadvanceddatasciencecapstone-donotdelete-pr-imkca0ueactk84',Key='y_test.csv')['Body']\n# add missing __iter__ method, so pandas accepts body as file-like object\nif not hasattr(body, \"__iter__\"): body.__iter__ = types.MethodType( __iter__, body )\n\ndf_data_4 = pd.read_csv(body)\ndf_data_4.head()",
            "execution_count": 7,
            "outputs": [
                {
                    "output_type": "execute_result",
                    "execution_count": 7,
                    "data": {
                        "text/plain": "   Medal\n0      0\n1      0\n2      1\n3      0\n4      1",
                        "text/html": "<div>\n<style scoped>\n    .dataframe tbody tr th:only-of-type {\n        vertical-align: middle;\n    }\n\n    .dataframe tbody tr th {\n        vertical-align: top;\n    }\n\n    .dataframe thead th {\n        text-align: right;\n    }\n</style>\n<table border=\"1\" class=\"dataframe\">\n  <thead>\n    <tr style=\"text-align: right;\">\n      <th></th>\n      <th>Medal</th>\n    </tr>\n  </thead>\n  <tbody>\n    <tr>\n      <th>0</th>\n      <td>0</td>\n    </tr>\n    <tr>\n      <th>1</th>\n      <td>0</td>\n    </tr>\n    <tr>\n      <th>2</th>\n      <td>1</td>\n    </tr>\n    <tr>\n      <th>3</th>\n      <td>0</td>\n    </tr>\n    <tr>\n      <th>4</th>\n      <td>1</td>\n    </tr>\n  </tbody>\n</table>\n</div>"
                    },
                    "metadata": {}
                }
            ]
        },
        {
            "metadata": {},
            "cell_type": "markdown",
            "source": "## Normalization"
        },
        {
            "metadata": {},
            "cell_type": "code",
            "source": "import tensorflow as tf\nfrom tensorflow.keras.wrappers.scikit_learn import KerasClassifier\nfrom tensorflow.keras.models import Sequential\nfrom tensorflow.keras.layers import Dense\nfrom tensorflow.keras.layers import BatchNormalization\nfrom tensorflow.keras.layers import Activation",
            "execution_count": 8,
            "outputs": []
        },
        {
            "metadata": {},
            "cell_type": "code",
            "source": "model2 = Sequential()\nmodel2.add(Dense(16, input_dim=1255))\nmodel2.add(BatchNormalization())\nmodel2.add(Activation('relu'))\n\nmodel2.add(Dense(12, activation='relu'))\nmodel2.add(Dense(1, activation='sigmoid'))\nmodel2.compile(loss='categorical_crossentropy', optimizer='adam', metrics=['accuracy'])\nhistory = model2.fit(df_data_1, df_data_3, epochs=10, batch_size=64)\n",
            "execution_count": 9,
            "outputs": [
                {
                    "output_type": "stream",
                    "text": "Epoch 1/10\n2255/2255 [==============================] - 16s 7ms/step - loss: 0.0000e+00 - accuracy: 0.8528\nEpoch 2/10\n2255/2255 [==============================] - 14s 6ms/step - loss: 0.0000e+00 - accuracy: 0.8548\nEpoch 3/10\n2255/2255 [==============================] - 14s 6ms/step - loss: 0.0000e+00 - accuracy: 0.8524\nEpoch 4/10\n2255/2255 [==============================] - 14s 6ms/step - loss: 0.0000e+00 - accuracy: 0.8532\nEpoch 5/10\n2255/2255 [==============================] - 14s 6ms/step - loss: 0.0000e+00 - accuracy: 0.8547\nEpoch 6/10\n2255/2255 [==============================] - 14s 6ms/step - loss: 0.0000e+00 - accuracy: 0.8542\nEpoch 7/10\n2255/2255 [==============================] - 14s 6ms/step - loss: 0.0000e+00 - accuracy: 0.8534\nEpoch 8/10\n2255/2255 [==============================] - 14s 6ms/step - loss: 0.0000e+00 - accuracy: 0.8552\nEpoch 9/10\n2255/2255 [==============================] - 14s 6ms/step - loss: 0.0000e+00 - accuracy: 0.8555\nEpoch 10/10\n2255/2255 [==============================] - 14s 6ms/step - loss: 0.0000e+00 - accuracy: 0.8530\n",
                    "name": "stdout"
                }
            ]
        },
        {
            "metadata": {},
            "cell_type": "code",
            "source": "\nmodel2.evaluate(df_data_2, df_data_4)",
            "execution_count": 10,
            "outputs": [
                {
                    "output_type": "stream",
                    "text": "1933/1933 [==============================] - 3s 2ms/step - loss: 0.0000e+00 - accuracy: 0.8536\n",
                    "name": "stdout"
                },
                {
                    "output_type": "execute_result",
                    "execution_count": 10,
                    "data": {
                        "text/plain": "[0.0, 0.853613555431366]"
                    },
                    "metadata": {}
                }
            ]
        },
        {
            "metadata": {},
            "cell_type": "markdown",
            "source": "## Droupout"
        },
        {
            "metadata": {},
            "cell_type": "code",
            "source": "\nfrom tensorflow.keras.layers import Dropout\n\nmodel3 = Sequential()\nmodel3.add(Dense(16, input_dim=1255, activation='relu'))\nmodel3.add(Dropout(0.5))\nmodel3.add(Dense(12, activation='relu'))\nmodel3.add(Dropout(0.5))\nmodel3.add(Dense(1, activation='sigmoid'))\nmodel3.compile(loss='categorical_crossentropy', optimizer='adam', metrics=['accuracy'])\nhistory = model3.fit(df_data_1, df_data_3, epochs=10, batch_size=64)\n\n",
            "execution_count": 8,
            "outputs": [
                {
                    "output_type": "stream",
                    "text": "Epoch 1/10\n2255/2255 [==============================] - 14s 6ms/step - loss: 0.0000e+00 - accuracy: 0.8424\nEpoch 2/10\n2255/2255 [==============================] - 13s 6ms/step - loss: 0.0000e+00 - accuracy: 0.8527\nEpoch 3/10\n2255/2255 [==============================] - 13s 6ms/step - loss: 0.0000e+00 - accuracy: 0.8543\nEpoch 4/10\n2255/2255 [==============================] - 13s 6ms/step - loss: 0.0000e+00 - accuracy: 0.8541\nEpoch 5/10\n2255/2255 [==============================] - 13s 6ms/step - loss: 0.0000e+00 - accuracy: 0.8529\nEpoch 6/10\n2255/2255 [==============================] - 13s 6ms/step - loss: 0.0000e+00 - accuracy: 0.8545\nEpoch 7/10\n2255/2255 [==============================] - 13s 6ms/step - loss: 0.0000e+00 - accuracy: 0.8522\nEpoch 8/10\n2255/2255 [==============================] - 13s 6ms/step - loss: 0.0000e+00 - accuracy: 0.8541\nEpoch 9/10\n2255/2255 [==============================] - 13s 6ms/step - loss: 0.0000e+00 - accuracy: 0.8528\nEpoch 10/10\n2255/2255 [==============================] - 13s 6ms/step - loss: 0.0000e+00 - accuracy: 0.8541\n",
                    "name": "stdout"
                }
            ]
        },
        {
            "metadata": {},
            "cell_type": "code",
            "source": "model3.evaluate(df_data_2, df_data_4)",
            "execution_count": 9,
            "outputs": [
                {
                    "output_type": "stream",
                    "text": "1933/1933 [==============================] - 4s 2ms/step - loss: 0.0000e+00 - accuracy: 0.8536\n",
                    "name": "stdout"
                },
                {
                    "output_type": "execute_result",
                    "execution_count": 9,
                    "data": {
                        "text/plain": "[0.0, 0.853613555431366]"
                    },
                    "metadata": {}
                }
            ]
        },
        {
            "metadata": {},
            "cell_type": "code",
            "source": "",
            "execution_count": null,
            "outputs": []
        }
    ],
    "metadata": {
        "kernelspec": {
            "name": "python3",
            "display_name": "Python 3.7",
            "language": "python"
        },
        "language_info": {
            "name": "python",
            "version": "3.7.11",
            "mimetype": "text/x-python",
            "codemirror_mode": {
                "name": "ipython",
                "version": 3
            },
            "pygments_lexer": "ipython3",
            "nbconvert_exporter": "python",
            "file_extension": ".py"
        }
    },
    "nbformat": 4,
    "nbformat_minor": 1
}